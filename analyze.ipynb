{
 "cells": [
  {
   "cell_type": "code",
   "execution_count": 1,
   "metadata": {},
   "outputs": [
    {
     "name": "stderr",
     "output_type": "stream",
     "text": [
      "/home/zydq/environments/anaconda3/lib/python3.6/site-packages/h5py/__init__.py:36: FutureWarning: Conversion of the second argument of issubdtype from `float` to `np.floating` is deprecated. In future, it will be treated as `np.float64 == np.dtype(float).type`.\n",
      "  from ._conv import register_converters as _register_converters\n"
     ]
    }
   ],
   "source": [
    "import h5py\n",
    "import PIL\n",
    "import matplotlib.pyplot as plt\n",
    "import numpy as np\n",
    "\n",
    "train_path = '/home/zydq/Datasets/LCZ/training.h5'\n",
    "vali_path = '/home/zydq/Datasets/LCZ/validation.h5'"
   ]
  },
  {
   "cell_type": "code",
   "execution_count": 2,
   "metadata": {},
   "outputs": [],
   "source": [
    "train_h5 = h5py.File(train_path, 'r')\n",
    "vali_h5 = h5py.File(vali_path, 'r')\n",
    "label_names = ['LCZ 1:  Compact high-rise', 'LCZ 2:  Compact mid-rise', 'LCZ 3:  Compact low-rise',\n",
    "               'LCZ 4:  Open high-rise', 'LCZ 5:  Open mid-rise', 'LCZ 6:  Open low-rise', \n",
    "               'LCZ 7:  Lightweight low-rise', 'LCZ 8:  Large low-rise', 'LCZ 9:  Sparsely built',\n",
    "               'LCZ 10:  Heavy industry', 'LCZ A:  Dense trees', 'LCZ B:  Scattered trees', \n",
    "               'LCZ C:  Bush, scrub', 'LCZ D:  Low plants', 'LCZ E:  Bare rock or paved',\n",
    "               'LCZ F:  Bare soil or sand',  'LCZ G:  Water']"
   ]
  },
  {
   "cell_type": "code",
   "execution_count": 213,
   "metadata": {},
   "outputs": [],
   "source": [
    "def view_data(source, num):\n",
    "    VH_ORG = source['sen1'][num,:,:,:2]\n",
    "    VH_ORG_IN = np.linalg.norm(VH_ORG, axis=-1)[:,:,None] ** 2\n",
    "    \n",
    "    VV_ORG = source['sen1'][num,:,:,2:4]\n",
    "    VV_ORG_IN = np.linalg.norm(VV_ORG, axis=-1)[:,:,None] ** 2\n",
    "    \n",
    "    VV_VH_ORG = VH_ORG + np.sqrt(1/2)*VV_ORG\n",
    "    VV_VH_ORG_IN = np.linalg.norm(VV_VH_ORG, axis=-1)[:,:,None] ** 2\n",
    "    \n",
    "    VH_LEE_IN = source['sen1'][num,:,:,4][:,:,None] \n",
    "    VV_LEE_IN = source['sen1'][num,:,:,5][:,:,None]\n",
    "    Rc = source['sen1'][num,:,:,6][:,:,None]\n",
    "    \n",
    "    VV_VH_LEE_IN = VH_LEE_IN + VV_LEE_IN / 2 + Rc\n",
    "    \n",
    "    \n",
    "    \n",
    "    \n",
    "    RGB = np.concatenate([source['sen2'][num,:,:, [2]], \n",
    "                          source['sen2'][num,:,:, [0]], \n",
    "                          source['sen2'][num,:,:, [1]]], -1)\n",
    "    \n",
    "    img = np.concatenate([2*VH_LEE_IN , \n",
    "                          VV_LEE_IN , \n",
    "                          VV_VH_LEE_IN], -1)\n",
    "    img = np.concatenate([1-np.exp(-2*VH_LEE_IN), \n",
    "                          1-np.exp(-VV_LEE_IN), \n",
    "                          1-np.exp(-VV_ORG_IN)], -1)\n",
    "    \n",
    "    \n",
    "#     img[img>1]=1\n",
    "    print(np.max(img),np.mean(img))\n",
    "    print(img.shape)\n",
    "    p1 = plt.subplot(121)\n",
    "    p2 = plt.subplot(122)\n",
    "#     p1.imshow(img)\n",
    "    RGB*=3\n",
    "    RGB[RGB>1]=1.0\n",
    "    p2.imshow(RGB)\n",
    "    p1.imshow(1-np.exp(-VV_VH_LEE_IN[:,:,0] ),cmap=plt.cm.gray)\n",
    "\n",
    "    \n",
    "    plt.show()\n",
    "    print(label_names[np.argmax(source['label'][num])])"
   ]
  },
  {
   "cell_type": "code",
   "execution_count": 214,
   "metadata": {
    "scrolled": true
   },
   "outputs": [
    {
     "name": "stdout",
     "output_type": "stream",
     "text": [
      "0.9999999999985486 0.1908008184669936\n",
      "(32, 32, 3)\n"
     ]
    },
    {
     "data": {
      "image/png": "[encoded data removed]",
      "text/plain": [
       "<Figure size 432x288 with 2 Axes>"
      ]
     },
     "metadata": {},
     "output_type": "display_data"
    },
    {
     "name": "stdout",
     "output_type": "stream",
     "text": [
      "LCZ 7:  Lightweight low-rise\n"
     ]
    }
   ],
   "source": [
    "view_data(train_h5, 4000)"
   ]
  },
  {
   "cell_type": "code",
   "execution_count": 1117,
   "metadata": {},
   "outputs": [
    {
     "data": {
      "text/plain": [
       "(32, 32, 1)"
      ]
     },
     "execution_count": 1117,
     "metadata": {},
     "output_type": "execute_result"
    }
   ],
   "source": [
    "np.ndarray([32,32]).reshape(32,32,1).shape"
   ]
  },
  {
   "cell_type": "code",
   "execution_count": 370,
   "metadata": {},
   "outputs": [
    {
     "data": {
      "text/plain": [
       "(array([-0.01378459, -0.08615369]), 0.013846629299223423)"
      ]
     },
     "execution_count": 370,
     "metadata": {},
     "output_type": "execute_result"
    }
   ],
   "source": [
    "train_h5['sen1'][0,0,0,:2] , train_h5['sen1'][0,0,0,4] #/ np.linalg.norm(train_h5['sen1'][0,0,0,:2]) "
   ]
  },
  {
   "cell_type": "code",
   "execution_count": null,
   "metadata": {},
   "outputs": [],
   "source": []
  }
 ],
 "metadata": {
  "kernelspec": {
   "display_name": "Python 3",
   "language": "python",
   "name": "python3"
  },
  "language_info": {
   "codemirror_mode": {
    "name": "ipython",
    "version": 3
   },
   "file_extension": ".py",
   "mimetype": "text/x-python",
   "name": "python",
   "nbconvert_exporter": "python",
   "pygments_lexer": "ipython3",
   "version": "3.6.5"
  }
 },
 "nbformat": 4,
 "nbformat_minor": 2
}
